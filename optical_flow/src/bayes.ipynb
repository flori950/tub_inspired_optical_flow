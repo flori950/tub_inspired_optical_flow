{
 "cells": [
  {
   "cell_type": "code",
   "execution_count": 1,
   "id": "sharp-playlist",
   "metadata": {},
   "outputs": [],
   "source": [
    "import numpy as np\n",
    "from matplotlib import pyplot as plt\n",
    "import math\n",
    "from scipy.optimize import minimize"
   ]
  },
  {
   "cell_type": "code",
   "execution_count": 98,
   "id": "710e6840",
   "metadata": {},
   "outputs": [],
   "source": [
    "def extract_evt(filename):\n",
    "    infile = open(filename, 'r')\n",
    "    x = []\n",
    "    y = []\n",
    "    for line in infile:\n",
    "        words = line.split()\n",
    "        x.append(round(float(words[0]))-1)\n",
    "        y.append(round(float(words[1]))-1)        \n",
    "    infile.close()\n",
    "    return x,y"
   ]
  },
  {
   "cell_type": "code",
   "execution_count": 99,
   "id": "be1033ae",
   "metadata": {},
   "outputs": [],
   "source": [
    "def extract_seg(filename):\n",
    "    infile = open(filename, 'r')\n",
    "    x = []\n",
    "    y = []\n",
    "    for line in infile:\n",
    "        words = line.split()\n",
    "        x.append(float(words[0]))\n",
    "        y.append(float(words[1]))\n",
    "    infile.close()\n",
    "    return x,y"
   ]
  },
  {
   "cell_type": "code",
   "execution_count": 100,
   "id": "618519d7",
   "metadata": {},
   "outputs": [],
   "source": [
    "filename_sub = 'evt_vec.txt'    \n",
    "x, y = extract_evt(filename_sub)"
   ]
  },
  {
   "cell_type": "code",
   "execution_count": 101,
   "id": "a0cad822",
   "metadata": {},
   "outputs": [],
   "source": [
    "filename_sub = 'P.txt'    \n",
    "P1_seg,P2_seg = extract_seg(filename_sub)"
   ]
  },
  {
   "cell_type": "code",
   "execution_count": 106,
   "id": "92631db4",
   "metadata": {},
   "outputs": [],
   "source": [
    "seg1 = np.zeros((260,346))\n",
    "for i in range (len(x)):\n",
    "    seg1[y[i],x[i]] = P1_seg[i]\n",
    "seg2 = np.zeros((260,346))\n",
    "for i in range (len(x)):\n",
    "    seg2[y[i],x[i]] = P2_seg[i]"
   ]
  },
  {
   "cell_type": "code",
   "execution_count": 107,
   "id": "9701f18b",
   "metadata": {},
   "outputs": [],
   "source": [
    "F_seg = seg1\n",
    "B_seg = seg2\n",
    "F_seg[F_seg<0.5]=0\n",
    "B_seg[B_seg<0.5]=0"
   ]
  },
  {
   "cell_type": "code",
   "execution_count": 111,
   "id": "e096a574",
   "metadata": {},
   "outputs": [],
   "source": [
    "F_seg = seg1\n",
    "B_seg = seg2\n",
    "F_seg[F_seg<1]=0\n",
    "B_seg[B_seg<1]=0"
   ]
  },
  {
   "cell_type": "code",
   "execution_count": 110,
   "id": "93c8d7c5",
   "metadata": {},
   "outputs": [
    {
     "data": {
      "text/plain": [
       "(260, 346)"
      ]
     },
     "execution_count": 110,
     "metadata": {},
     "output_type": "execute_result"
    }
   ],
   "source": [
    "F_seg.shape"
   ]
  },
  {
   "cell_type": "code",
   "execution_count": 115,
   "id": "2d4a22c4",
   "metadata": {},
   "outputs": [
    {
     "data": {
      "image/png": "[encoded data removed]",
      "text/plain": [
       "<Figure size 432x288 with 2 Axes>"
      ]
     },
     "metadata": {
      "needs_background": "light"
     },
     "output_type": "display_data"
    }
   ],
   "source": [
    "fig = plt.figure()\n",
    "fig.suptitle('F_seg')\n",
    "\n",
    "plt.imshow(F_seg, cmap='gray', clim=(0,1))\n",
    "plt.xlabel(\"x [pixels]\")\n",
    "plt.ylabel(\"y [pixels]\")\n",
    "plt.colorbar()\n",
    "plt.show()"
   ]
  },
  {
   "cell_type": "code",
   "execution_count": 113,
   "id": "0c62bd7e",
   "metadata": {},
   "outputs": [
    {
     "data": {
      "image/png": "[encoded data removed]",
      "text/plain": [
       "<Figure size 432x288 with 2 Axes>"
      ]
     },
     "metadata": {
      "needs_background": "light"
     },
     "output_type": "display_data"
    }
   ],
   "source": [
    "fig = plt.figure()\n",
    "fig.suptitle('B_seg')\n",
    "\n",
    "plt.imshow(B_seg, cmap='gray', clim=(0,1))\n",
    "plt.xlabel(\"x [pixels]\")\n",
    "plt.ylabel(\"y [pixels]\")\n",
    "plt.colorbar()\n",
    "plt.show()"
   ]
  },
  {
   "cell_type": "code",
   "execution_count": 6,
   "id": "ideal-subscription",
   "metadata": {
    "scrolled": true
   },
   "outputs": [
    {
     "name": "stdout",
     "output_type": "stream",
     "text": [
      "(246, 41)\n",
      "(246, 41)\n"
     ]
    }
   ],
   "source": [
    "alpha0 = np.ones([41,41],dtype=np.float32)\n",
    "beta0 = np.ones([41,41],dtype=np.float32)\n",
    "Fo0 = 5*np.ones([82,41],dtype=np.float32)\n",
    "Bo0 = 5*np.ones([82,41],dtype=np.float32)\n",
    "x0 = np.vstack((alpha0,beta0,Fo0,Bo0))\n",
    "print(x0.shape)\n",
    "#x0 = x0.flatten()\n",
    "print(x0.shape)"
   ]
  },
  {
   "cell_type": "code",
   "execution_count": 10,
   "id": "4dac403f",
   "metadata": {},
   "outputs": [],
   "source": [
    "Cx = u1\n",
    "Cy = v1\n",
    "Fx = Fu\n",
    "Fy = Fv\n",
    "Bx = Bu\n",
    "By = Bv"
   ]
  },
  {
   "cell_type": "code",
   "execution_count": 11,
   "id": "f8e22eaa",
   "metadata": {
    "scrolled": true
   },
   "outputs": [
    {
     "name": "stdout",
     "output_type": "stream",
     "text": [
      "0\n",
      "1\n",
      "2\n",
      "3\n",
      "4\n",
      "5\n",
      "6\n",
      "7\n",
      "8\n",
      "9\n",
      "10\n",
      "11\n",
      "12\n",
      "13\n",
      "14\n",
      "15\n",
      "16\n",
      "17\n",
      "18\n",
      "19\n",
      "20\n",
      "21\n",
      "22\n",
      "23\n",
      "24\n",
      "25\n",
      "26\n",
      "27\n",
      "28\n",
      "29\n",
      "30\n",
      "31\n",
      "32\n",
      "33\n",
      "34\n",
      "35\n",
      "36\n",
      "37\n",
      "38\n",
      "39\n",
      "40\n"
     ]
    }
   ],
   "source": [
    "#input: Cx,Cy,Fx,Fy,Bx,By\n",
    "#output: alpha, beta, f1, f2, b1, b2\n",
    "h,w = Cx.shape\n",
    "l = h * w\n",
    "\n",
    "C = np.vstack((Cx,Cy))\n",
    "F = np.vstack((Fx,Fy))\n",
    "B = np.vstack((Bx,By))\n",
    "e = 1e-10 # value that close to 0\n",
    "\n",
    "#C - alpha0 * Fo0 - beta0 * Bo0\n",
    "#fun = lambda x: np.sum((C.reshape([2*h,w]) - x.reshape([6,2])[0,:] * x.reshape([6,2])[2:4,:] - x.reshape([6,2])[1,:]\\\n",
    "                       # * x.reshape([6,2])[4:6,:]) **2)   \n",
    "    \n",
    "#cons = ({'type': 'ineq', 'fun': lambda x: x[0:4] - e },\\\n",
    "        #{'type': 'ineq', 'fun': lambda x: -x[0:4] + 1},\\\n",
    "        #{'type': 'eq', 'fun': lambda x: F - np.append(x[0:2],x[0:2]) * x[4:8]},\\\n",
    "        #{'type': 'eq', 'fun': lambda x: B - np.append(x[2:4],x[2:4]) * x[8:12]})\n",
    "\n",
    "alpha = []\n",
    "beta = []\n",
    "f1 = []\n",
    "f2 = []\n",
    "b1 = []\n",
    "b2 = []\n",
    "\n",
    "for i in range (h):\n",
    "    print(i)\n",
    "    x0 = np.ones([6,w])\n",
    "    cc = np.append(C[i,:],C[i+h,:])\n",
    "    ff = np.append(F[i,:],F[i+h,:])\n",
    "    bb = np.append(B[i,:],B[i+h,:])\n",
    "    \n",
    "    fun = lambda x: np.sum((cc.reshape([2,w]) - np.vstack((x.reshape([6,w])[0,:],x.reshape([6,w])[0,:])) * \\\n",
    "                            x.reshape([6,w])[2:4,:] - np.vstack((x.reshape([6,w])[1,:],x.reshape([6,w])[1,:]))\\\n",
    "                            * x.reshape([6,w])[4:6,:]) **2)\n",
    "    \n",
    "    cons = ({'type': 'ineq', 'fun': lambda x: x[0:2*w] - e },\\\n",
    "            {'type': 'ineq', 'fun': lambda x: -x[0:2*w] + 1},\\\n",
    "            {'type': 'eq', 'fun': lambda x: ff - np.append(x[0:w],x[0:w]) * x[2*w:4*w]},\\\n",
    "            {'type': 'eq', 'fun': lambda x: bb - np.append(x[w:2*w],x[w:2*w]) * x[4*w:6*w]})\n",
    "    \n",
    "    res = minimize(fun, x0, method='SLSQP',constraints=cons)\n",
    "    \n",
    "    r = res.x\n",
    "    alpha = np.append(alpha,r.reshape([6,w])[0,:])\n",
    "    beta = np.append(beta,r.reshape([6,w])[1,:])\n",
    "    f1 = np.append(f1,r.reshape([6,w])[2,:])\n",
    "    f2 = np.append(f2,r.reshape([6,w])[3,:])\n",
    "    b1 = np.append(b1,r.reshape([6,w])[4,:])\n",
    "    b2 = np.append(b2,r.reshape([6,w])[5,:])\n",
    "\n",
    "alpha = alpha.reshape([h,w])\n",
    "beta = beta.reshape([h,w])\n",
    "f1 = f1.reshape([h,w])\n",
    "f2 = f2.reshape([h,w])\n",
    "b1 = b1.reshape([h,w])\n",
    "b2 = b2.reshape([h,w])"
   ]
  }
 ],
 "metadata": {
  "kernelspec": {
   "display_name": "Python 3",
   "language": "python",
   "name": "python3"
  },
  "language_info": {
   "codemirror_mode": {
    "name": "ipython",
    "version": 3
   },
   "file_extension": ".py",
   "mimetype": "text/x-python",
   "name": "python",
   "nbconvert_exporter": "python",
   "pygments_lexer": "ipython3",
   "version": "3.6.5"
  }
 },
 "nbformat": 4,
 "nbformat_minor": 5
}
